{
 "cells": [
  {
   "cell_type": "markdown",
   "id": "b99fa7b3-6fbd-4511-9357-27fa148a0da3",
   "metadata": {},
   "source": [
    "# Move files and labeling"
   ]
  },
  {
   "cell_type": "code",
   "execution_count": 1,
   "id": "7e4c93b0-02b6-47f6-a243-5a19b7d025ef",
   "metadata": {},
   "outputs": [],
   "source": [
    "import shutil\n",
    "import pandas as pd\n",
    "import numpy as np\n",
    "import os\n",
    "import glob"
   ]
  },
  {
   "cell_type": "code",
   "execution_count": 2,
   "id": "72abe78d-749b-465d-8d80-42574cd943b9",
   "metadata": {},
   "outputs": [
    {
     "data": {
      "text/plain": [
       "[['1001834_2',\n",
       "  '/dcs05/qiao/data/ukb/mri_brain/visit2_batch0/1001834_2/T1/T1.nii.gz'],\n",
       " ['1003648_2',\n",
       "  '/dcs05/qiao/data/ukb/mri_brain/visit2_batch0/1003648_2/T1/T1.nii.gz'],\n",
       " ['1004174_2',\n",
       "  '/dcs05/qiao/data/ukb/mri_brain/visit2_batch0/1004174_2/T1/T1.nii.gz'],\n",
       " ['1005249_2',\n",
       "  '/dcs05/qiao/data/ukb/mri_brain/visit2_batch0/1005249_2/T1/T1.nii.gz'],\n",
       " ['1005737_2',\n",
       "  '/dcs05/qiao/data/ukb/mri_brain/visit2_batch0/1005737_2/T1/T1.nii.gz'],\n",
       " ['1006850_2',\n",
       "  '/dcs05/qiao/data/ukb/mri_brain/visit2_batch0/1006850_2/T1/T1.nii.gz'],\n",
       " ['1006901_2',\n",
       "  '/dcs05/qiao/data/ukb/mri_brain/visit2_batch0/1006901_2/T1/T1.nii.gz'],\n",
       " ['1011825_2',\n",
       "  '/dcs05/qiao/data/ukb/mri_brain/visit2_batch0/1011825_2/T1/T1.nii.gz'],\n",
       " ['1014401_2',\n",
       "  '/dcs05/qiao/data/ukb/mri_brain/visit2_batch0/1014401_2/T1/T1.nii.gz'],\n",
       " ['1014827_2',\n",
       "  '/dcs05/qiao/data/ukb/mri_brain/visit2_batch0/1014827_2/T1/T1.nii.gz']]"
      ]
     },
     "execution_count": 2,
     "metadata": {},
     "output_type": "execute_result"
    }
   ],
   "source": [
    "#get the T1 file under all subfolders\n",
    "path = '/dcs05/qiao/data/ukb/mri_brain/visit2_batch0'\n",
    "os.chdir(path)\n",
    "#get the file under all subfolders\n",
    "filelist = []\n",
    "masklist = []\n",
    "# brainfilelist = []\n",
    "n = 0\n",
    "for root, dirs, files in os.walk(path):\n",
    "    if n < 10: \n",
    "        for file in files:\n",
    "            if file.endswith('T1.nii.gz'):\n",
    "                if file.startswith('._'):\n",
    "                    continue\n",
    "                else:\n",
    "                    if root.split('/')[-1] == 'T1':\n",
    "                        filelabel = root.split('/')[-2]\n",
    "                        # print(filelabel)\n",
    "                        filelist.append([filelabel,os.path.join(root, file)])\n",
    "                        maskfile = 'T1_brain_mask.nii.gz'\n",
    "                        # brainfile = 'T1_brain.nii.gz'\n",
    "                        if os.path.exists(os.path.join(root, maskfile)):\n",
    "                            masklist.append([filelabel,os.path.join(root, maskfile)])\n",
    "                        else:\n",
    "                            print('No mask file found for ', filelabel)\n",
    "                        # if os.path.exists(os.path.join(root, brainfile)):\n",
    "                        #     brainfilelist.append([filelabel,os.path.join(root, brainfile)])\n",
    "                        # else:\n",
    "                        #     print('No brain file found for ', filelabel)\n",
    "                        n = n + 1\n",
    "filelist.sort()\n",
    "filelist"
   ]
  },
  {
   "cell_type": "code",
   "execution_count": 4,
   "id": "c4986b1b-ce86-42bd-af7f-8db912236db0",
   "metadata": {},
   "outputs": [
    {
     "data": {
      "text/plain": [
       "'1001834_2'"
      ]
     },
     "execution_count": 4,
     "metadata": {},
     "output_type": "execute_result"
    }
   ],
   "source": [
    "filelist[0][0]"
   ]
  },
  {
   "cell_type": "code",
   "execution_count": 10,
   "id": "2e28a97c-0df4-4712-b6dc-359439849dbb",
   "metadata": {},
   "outputs": [
    {
     "data": {
      "text/plain": [
       "[['1006901_2',\n",
       "  '/dcs05/qiao/data/ukb/mri_brain/visit2_batch0/1006901_2/T1/T1_brain.nii.gz'],\n",
       " ['1004174_2',\n",
       "  '/dcs05/qiao/data/ukb/mri_brain/visit2_batch0/1004174_2/T1/T1_brain.nii.gz'],\n",
       " ['1003648_2',\n",
       "  '/dcs05/qiao/data/ukb/mri_brain/visit2_batch0/1003648_2/T1/T1_brain.nii.gz'],\n",
       " ['1014827_2',\n",
       "  '/dcs05/qiao/data/ukb/mri_brain/visit2_batch0/1014827_2/T1/T1_brain.nii.gz'],\n",
       " ['1005737_2',\n",
       "  '/dcs05/qiao/data/ukb/mri_brain/visit2_batch0/1005737_2/T1/T1_brain.nii.gz'],\n",
       " ['1014401_2',\n",
       "  '/dcs05/qiao/data/ukb/mri_brain/visit2_batch0/1014401_2/T1/T1_brain.nii.gz'],\n",
       " ['1006850_2',\n",
       "  '/dcs05/qiao/data/ukb/mri_brain/visit2_batch0/1006850_2/T1/T1_brain.nii.gz'],\n",
       " ['1011825_2',\n",
       "  '/dcs05/qiao/data/ukb/mri_brain/visit2_batch0/1011825_2/T1/T1_brain.nii.gz'],\n",
       " ['1001834_2',\n",
       "  '/dcs05/qiao/data/ukb/mri_brain/visit2_batch0/1001834_2/T1/T1_brain.nii.gz'],\n",
       " ['1005249_2',\n",
       "  '/dcs05/qiao/data/ukb/mri_brain/visit2_batch0/1005249_2/T1/T1_brain.nii.gz']]"
      ]
     },
     "execution_count": 10,
     "metadata": {},
     "output_type": "execute_result"
    }
   ],
   "source": [
    "# brainfilelist"
   ]
  },
  {
   "cell_type": "code",
   "execution_count": 6,
   "id": "d06ce4f4-b89a-4402-8604-dac5f62aa209",
   "metadata": {},
   "outputs": [],
   "source": [
    "testpath = '/users/zxu/synthseg/input/'"
   ]
  },
  {
   "cell_type": "code",
   "execution_count": 11,
   "id": "587994ee-734f-4263-8e8c-c3693b5f1a97",
   "metadata": {},
   "outputs": [],
   "source": [
    "for i in range(len(filelist)):\n",
    "    shutil.copy(filelist[i][1], testpath+filelist[i][0]+'_T1.nii.gz')"
   ]
  },
  {
   "cell_type": "code",
   "execution_count": 13,
   "id": "3c53c367-99cc-4757-aab8-a683d78ebeee",
   "metadata": {},
   "outputs": [
    {
     "data": {
      "text/plain": [
       "'/users/zxu/synthseg/input/mask/'"
      ]
     },
     "execution_count": 13,
     "metadata": {},
     "output_type": "execute_result"
    }
   ],
   "source": [
    "maskpath = testpath + 'mask/'\n",
    "brainpath = testpath + 'brain/'\n",
    "maskpath"
   ]
  },
  {
   "cell_type": "code",
   "execution_count": 15,
   "id": "785e976b-77c7-4e99-a585-f3e4407c5bed",
   "metadata": {},
   "outputs": [],
   "source": [
    "for i in range(len(masklist)):\n",
    "    shutil.copy(masklist[i][1], maskpath+masklist[i][0]+'_T1_brain_mask.nii.gz')\n",
    "# for i in range(len(brainfilelist)):\n",
    "#     shutil.copy(brainfilelist[i][1], brainpath+brainfilelist[i][0]+'_T1_brain.nii.gz')"
   ]
  }
 ],
 "metadata": {
  "kernelspec": {
   "display_name": "Python 3 (ipykernel)",
   "language": "python",
   "name": "python3"
  },
  "language_info": {
   "codemirror_mode": {
    "name": "ipython",
    "version": 3
   },
   "file_extension": ".py",
   "mimetype": "text/x-python",
   "name": "python",
   "nbconvert_exporter": "python",
   "pygments_lexer": "ipython3",
   "version": "3.10.9"
  }
 },
 "nbformat": 4,
 "nbformat_minor": 5
}
