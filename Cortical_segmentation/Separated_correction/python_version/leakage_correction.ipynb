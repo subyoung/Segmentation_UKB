{
 "cells": [
  {
   "cell_type": "code",
   "execution_count": 21,
   "metadata": {},
   "outputs": [],
   "source": [
    "import nibabel as nib\n",
    "import numpy as np\n",
    "import matplotlib.pyplot as plt"
   ]
  },
  {
   "cell_type": "code",
   "execution_count": 38,
   "metadata": {},
   "outputs": [
    {
     "name": "stdout",
     "output_type": "stream",
     "text": [
      "(178, 228, 211)\n"
     ]
    }
   ],
   "source": [
    "#import mri nii image\n",
    "relabeledimg = nib.load('1006850_2_T1_synthseg_origspace_relabeled.img')\n",
    "relabeledimg_data = relabeledimg.get_fdata()\n",
    "print(relabeledimg_data.shape)"
   ]
  },
  {
   "cell_type": "code",
   "execution_count": 39,
   "metadata": {},
   "outputs": [
    {
     "name": "stdout",
     "output_type": "stream",
     "text": [
      "(178, 228, 211)\n"
     ]
    }
   ],
   "source": [
    "#import mask\n",
    "mask = nib.load('T1_brain_mask.nii.gz')\n",
    "mask_data = mask.get_fdata()\n",
    "print(mask_data.shape)"
   ]
  },
  {
   "cell_type": "code",
   "execution_count": 40,
   "metadata": {},
   "outputs": [
    {
     "name": "stdout",
     "output_type": "stream",
     "text": [
      "Unique values in segmentation data before correction: [ 0.  1.  2.  3.  4.  5.  6.  7.  8.  9. 10. 11. 12. 13. 14. 15. 16. 17.\n",
      " 18. 19. 20. 21. 22. 23. 24. 25. 26. 27. 28. 29. 30. 31. 32. 33. 34. 35.\n",
      " 36. 37. 38. 39. 40. 41. 42. 43. 44. 45. 46. 47. 48. 49. 50. 51. 52. 53.\n",
      " 54. 55. 56. 57. 58. 59. 60. 61. 62. 63. 64. 65. 66. 67. 68. 69. 70. 71.\n",
      " 72. 73. 74. 75. 76. 77. 78. 79. 80. 81. 82. 83. 84. 85. 86. 87. 88. 89.\n",
      " 90. 91. 92. 93. 94. 95. 96. 97. 98.]\n",
      "Unique values in mask data: [0.00000000e+00 2.35915650e-07 1.05240531e-06 ... 9.99998569e-01\n",
      " 9.99999046e-01 1.00000000e+00]\n"
     ]
    }
   ],
   "source": [
    "print(\"Unique values in segmentation data before correction:\", np.unique(relabeledimg_data))\n",
    "print(\"Unique values in mask data:\", np.unique(mask_data))"
   ]
  },
  {
   "cell_type": "code",
   "execution_count": 41,
   "metadata": {},
   "outputs": [],
   "source": [
    "maskdata_bi = np.where(mask_data == 0, 0, 1)"
   ]
  },
  {
   "cell_type": "code",
   "execution_count": 42,
   "metadata": {},
   "outputs": [
    {
     "data": {
      "text/plain": [
       "array([0, 1])"
      ]
     },
     "execution_count": 42,
     "metadata": {},
     "output_type": "execute_result"
    }
   ],
   "source": [
    "np.unique(maskdata_bi)"
   ]
  },
  {
   "cell_type": "code",
   "execution_count": 56,
   "metadata": {},
   "outputs": [],
   "source": [
    "# Ensure the segmentation data is in the same shape as the mask\n",
    "assert relabeledimg_data.shape == maskdata_bi.shape, \"Segmentation and mask must have the same dimensions\"\n",
    "\n",
    "# Correct the segmentation by applying the mask, setting all values outside the mask to 0\n",
    "corrected_segmentation_data = np.where(maskdata_bi == 0, 0, relabeledimg_data)\n",
    "corrected_segmentation_data = corrected_segmentation_data.astype(np.uint8)"
   ]
  },
  {
   "cell_type": "code",
   "execution_count": 58,
   "metadata": {},
   "outputs": [],
   "source": [
    "nib.save(nib.Nifti1Image(corrected_segmentation_data, relabeledimg.affine), '1006850_2_T1_synthseg_origspace_relabeled_corrected.nii')\n",
    "nib.analyze.save(nib.Nifti1Image(corrected_segmentation_data, relabeledimg.affine), '1006850_2_T1_synthseg_origspace_relabeled_corrected.hdr')\n"
   ]
  }
 ],
 "metadata": {
  "kernelspec": {
   "display_name": "Python 3",
   "language": "python",
   "name": "python3"
  },
  "language_info": {
   "codemirror_mode": {
    "name": "ipython",
    "version": 3
   },
   "file_extension": ".py",
   "mimetype": "text/x-python",
   "name": "python",
   "nbconvert_exporter": "python",
   "pygments_lexer": "ipython3",
   "version": "3.12.2"
  }
 },
 "nbformat": 4,
 "nbformat_minor": 2
}
