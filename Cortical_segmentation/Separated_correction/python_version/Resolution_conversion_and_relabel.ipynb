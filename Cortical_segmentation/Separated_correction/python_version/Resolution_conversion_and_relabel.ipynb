{
 "cells": [
  {
   "cell_type": "markdown",
   "metadata": {},
   "source": [
    "# Pre-SynthSeg Processing"
   ]
  },
  {
   "cell_type": "code",
   "execution_count": 17,
   "metadata": {},
   "outputs": [],
   "source": [
    "import os\n",
    "import nibabel as nib\n",
    "import numpy as np\n",
    "import glob"
   ]
  },
  {
   "cell_type": "code",
   "execution_count": 87,
   "metadata": {},
   "outputs": [],
   "source": [
    "pathname_main = 'E:/UKB'\n",
    "fin_datasetfolder = 'E:/UKB/SynthSeg/test'\n",
    "in_filePattern = os.path.join(fin_datasetfolder, '*_T1.nii.gz')\n",
    "in_T1Files = glob.glob(in_filePattern)\n",
    "ndata_in = len(in_T1Files)\n",
    "\n",
    "outputdir = 'E:/UKB/SynthSeg/test'\n",
    "SynthSegdir = 'D:/GitHub/SynthSeg'"
   ]
  },
  {
   "cell_type": "code",
   "execution_count": 88,
   "metadata": {},
   "outputs": [
    {
     "data": {
      "text/plain": [
       "['E:/UKB/SynthSeg/test\\\\1000512_2_T1.nii.gz']"
      ]
     },
     "execution_count": 88,
     "metadata": {},
     "output_type": "execute_result"
    }
   ],
   "source": [
    "in_T1Files"
   ]
  },
  {
   "cell_type": "code",
   "execution_count": 89,
   "metadata": {},
   "outputs": [
    {
     "name": "stdout",
     "output_type": "stream",
     "text": [
      "E:/UKB/SynthSeg/test 1000512_2_T1.nii.gz\n",
      "1000512_2\n"
     ]
    }
   ],
   "source": [
    "for file_path in in_T1Files:\n",
    "    foldername, T1_name = os.path.split(file_path)\n",
    "    print(foldername, T1_name)\n",
    "    casename = T1_name.split('.')[0][:-3]\n",
    "    print(casename)\n",
    "    if os.path.exists(file_path):\n",
    "        img = nib.load(file_path)\n",
    "        data = img.get_fdata()\n",
    "        voxel_dims = img.header.get_zooms()[:3]\n",
    "        image_size = data.shape\n",
    "\n",
    "        \n",
    "        if not all(x % 32 == 0 for x in image_size):  # dimension not multiples of 32 \n",
    "            pad_size = np.mod(image_size, 2)\n",
    "            pad_size += np.mod(32 - np.mod(image_size + pad_size, 32), 32)\n",
    "            data = np.pad(data, [(0, s) for s in pad_size], mode='constant')\n",
    "        else:\n",
    "            pad_size = [0, 0, 0]\n",
    "\n",
    "        new_affine = img.affine.copy()\n",
    "        new_affine[:3, :3] = np.diag([1.0, 1.0, 1.0])  # Set resolution to 1mm\n",
    "        new_img = nib.Nifti1Image(data, affine=new_affine) \n",
    "        new_img_path = os.path.join(foldername, '1mmIntp', f'{casename}_1mmIntp.nii')\n",
    "        os.makedirs(os.path.dirname(new_img_path), exist_ok=True)\n",
    "        nib.save(new_img, new_img_path)\n",
    "\n",
    "        # Check image dimensions after padding and interpolation\n",
    "        if not np.allclose(new_img.header.get_zooms(), (1, 1, 1), atol=0.001):\n",
    "            raise ValueError(\"Final interpolated image resolution is not [1 1 1]\")\n",
    "\n"
   ]
  },
  {
   "cell_type": "markdown",
   "metadata": {},
   "source": [
    "# Post-SynthSeg Processing"
   ]
  },
  {
   "cell_type": "code",
   "execution_count": 2,
   "metadata": {},
   "outputs": [],
   "source": [
    "import os\n",
    "import glob\n",
    "import numpy as np\n",
    "import nibabel as nib\n",
    "from scipy.ndimage import binary_dilation, generate_binary_structure"
   ]
  },
  {
   "cell_type": "code",
   "execution_count": 82,
   "metadata": {},
   "outputs": [],
   "source": [
    "# Set up paths and initial conditions\n",
    "pathname_main = 'E:/UKB'\n",
    "fin_datasetfolder =  'E:/UKB/SynthSeg/test'\n",
    "in_filePattern = os.path.join(fin_datasetfolder, '*_T1.nii.gz')\n",
    "in_T1Files = glob.glob(in_filePattern)\n",
    "ndata_in = len(in_T1Files)\n",
    "\n",
    "outputdir = 'E:/UKB/SynthSeg/test'\n",
    "SynthSegdir = 'D:/GitHub/SynthSeg'\n",
    "flag_delete_intermediatefiles = False\n",
    "flag_save_brain_mask = True\n"
   ]
  },
  {
   "cell_type": "code",
   "execution_count": 83,
   "metadata": {},
   "outputs": [
    {
     "name": "stdout",
     "output_type": "stream",
     "text": [
      "For 1000512_2\n",
      "Seg in Nifti saved\n",
      "Seg in analysis format saved\n",
      "Mask in Nifti saved\n",
      "Brain in Nifti saved\n"
     ]
    }
   ],
   "source": [
    "# Processing loop\n",
    "for in_file in in_T1Files:\n",
    "    foldername, T1_name = os.path.split(in_file)\n",
    "    casename = T1_name[:-10]\n",
    "    print(f'For {casename}')\n",
    "\n",
    "    T1_full_path = os.path.join(foldername, T1_name)\n",
    "    T1_1mmIntp_path = os.path.join(foldername, '1mmIntp', T1_name.replace('.nii.gz', '_1mmIntp.nii'))\n",
    "\n",
    "    img = nib.load(T1_full_path)\n",
    "    data = img.get_fdata()\n",
    "    voxel_dims = img.header.get_zooms()\n",
    "    size_t = data.shape\n",
    "\n",
    "    if not all(x % 32 == 0 for x in size_t):  # dimension not multiples of 32\n",
    "            pad_size = np.mod(size_t, 2)\n",
    "            pad_size += np.mod(32 - np.mod(size_t + pad_size, 32), 32)\n",
    "            cropped_orig_data = np.pad(data, [(0, s) for s in pad_size], mode='constant')\n",
    "    else:\n",
    "        pad_size = [0, 0, 0]\n",
    "\n",
    "    seg_1mmIntp_path = os.path.join(outputdir, f'{casename}_1mmIntp_synthseg.nii')\n",
    "    seg_img = nib.load(seg_1mmIntp_path)\n",
    "    seg_data = seg_img.get_fdata()\n",
    "\n",
    "    # Flip and adjust axes if needed\n",
    "    flip_axes = [(np.isclose(seg_img.affine[i, i] / img.affine[i, i], -1, atol=0.0001), i) for i in range(3)]\n",
    "    for flip, axis in flip_axes:\n",
    "        if flip:\n",
    "            seg_data = np.flip(seg_data, axis=axis)\n",
    "\n",
    "    # Crop padding if added, like img_out = img_out(1:end-pad_size(1),1:end-pad_size(2),1:end-pad_size(3));\n",
    "    seg_data = seg_data[:size_t[0], :size_t[1], :size_t[2]]\n",
    "\n",
    "    # Prepare and save segmentation outputs\n",
    "    mask = binary_dilation(seg_data > 0, structure=generate_binary_structure(3, 1))\n",
    "    masked_data = data.copy()\n",
    "    masked_data[~mask] = 0\n",
    "\n",
    "    seg_name = os.path.join(outputdir, f'{casename}_T1_synthseg.nii')\n",
    "    mask_path = seg_name.replace('.nii', '_brain_mask.nii')\n",
    "    brain_path = seg_name.replace('.nii', '_brain.nii')\n",
    "\n",
    "    # Create unique label map 0-99\n",
    "    unique_labels = np.unique(seg_data)\n",
    "    label_map = {label: idx for idx, label in enumerate(unique_labels)}\n",
    "    mapped_seg_data = np.vectorize(label_map.get)(seg_data).astype(np.uint8)\n",
    "\n",
    "    mapped_seg_data = mapped_seg_data.astype(np.uint8) # Ensure data type is uint8\n",
    "    img.header.set_data_dtype(np.uint8) # Ensure data type is uint8\n",
    "\n",
    "    nib.save(nib.Nifti1Image(mapped_seg_data, img.affine, img.header), seg_name)\n",
    "    print('Seg in Nifti saved')\n",
    "    #save in analysis format\n",
    "    nib.analyze.save(nib.Nifti1Image(mapped_seg_data, img.affine, img.header), seg_name.replace('.nii', '.img'))\n",
    "    print('Seg in analysis format saved')\n",
    "    if flag_save_brain_mask:\n",
    "        nib.save(nib.Nifti1Image(mask.astype(np.uint8), img.affine), mask_path)\n",
    "        print('Mask in Nifti saved')\n",
    "        #ensure the masked data is uint8\n",
    "        masked_data_uint8 = (255 * (masked_data / masked_data.max())).astype(np.uint8)\n",
    "        nib.save(nib.Nifti1Image(masked_data_uint8, img.affine), brain_path)\n",
    "        print('Brain in Nifti saved')\n",
    "\n",
    "    # Optional clean-up\n",
    "    if flag_delete_intermediatefiles:\n",
    "        os.remove(T1_1mmIntp_path)\n",
    "        os.remove(seg_1mmIntp_path)\n"
   ]
  },
  {
   "cell_type": "markdown",
   "metadata": {},
   "source": [
    "# debug"
   ]
  },
  {
   "cell_type": "code",
   "execution_count": 38,
   "metadata": {},
   "outputs": [
    {
     "data": {
      "text/plain": [
       "(168, 221, 182)"
      ]
     },
     "execution_count": 38,
     "metadata": {},
     "output_type": "execute_result"
    }
   ],
   "source": [
    "size_t"
   ]
  },
  {
   "cell_type": "code",
   "execution_count": 41,
   "metadata": {},
   "outputs": [
    {
     "data": {
      "text/plain": [
       "(192, 224, 192)"
      ]
     },
     "execution_count": 41,
     "metadata": {},
     "output_type": "execute_result"
    }
   ],
   "source": [
    "cropped_orig_data.shape"
   ]
  },
  {
   "cell_type": "code",
   "execution_count": 39,
   "metadata": {},
   "outputs": [
    {
     "data": {
      "text/plain": [
       "(144, 218, 172)"
      ]
     },
     "execution_count": 39,
     "metadata": {},
     "output_type": "execute_result"
    }
   ],
   "source": [
    "mask.shape"
   ]
  },
  {
   "cell_type": "code",
   "execution_count": 40,
   "metadata": {},
   "outputs": [
    {
     "data": {
      "text/plain": [
       "(144, 218, 172)"
      ]
     },
     "execution_count": 40,
     "metadata": {},
     "output_type": "execute_result"
    }
   ],
   "source": [
    "seg_data.shape"
   ]
  },
  {
   "cell_type": "code",
   "execution_count": 25,
   "metadata": {},
   "outputs": [
    {
     "name": "stdout",
     "output_type": "stream",
     "text": [
      "Original size: (91, 109, 91)\n",
      "Padding added: [5, 19, 5]\n",
      "New size: (96, 128, 96)\n"
     ]
    }
   ],
   "source": [
    "import numpy as np\n",
    "import nibabel as nib\n",
    "\n",
    "# Simulated values for size_t from an example image's shape\n",
    "size_t = (91, 109, 91)\n",
    "\n",
    "# Determine padding if dimensions are not multiples of 32\n",
    "pad_size = [(0 if dim % 32 == 0 else 32 - dim % 32) for dim in size_t]\n",
    "data = np.random.rand(*size_t)  # Simulated data array\n",
    "\n",
    "# Apply padding\n",
    "padded_data = np.pad(data, [(0, p) for p in pad_size], mode='constant')\n",
    "\n",
    "print(\"Original size:\", size_t)\n",
    "print(\"Padding added:\", pad_size)\n",
    "print(\"New size:\", padded_data.shape)\n"
   ]
  },
  {
   "cell_type": "markdown",
   "metadata": {},
   "source": [
    "# only make unique labels for synthseg on original space"
   ]
  },
  {
   "cell_type": "code",
   "execution_count": 55,
   "metadata": {},
   "outputs": [],
   "source": [
    "pathname_main = 'E:/UKB'\n",
    "fin_datasetfolder = 'E:/UKB/test_gz_skull'\n",
    "in_filePattern = os.path.join(fin_datasetfolder, '*_T1.nii.gz')\n",
    "in_T1Files = glob.glob(in_filePattern)\n",
    "ndata_in = len(in_T1Files)\n",
    "\n",
    "outputdir = 'E:/UKB/SynthSeg/output_SynthSeg_parc_wo_resolution_conversion/'\n",
    "SynthSegdir = 'D:/GitHub/SynthSeg'\n",
    "\n",
    "flag_save_brain_mask = True\n",
    "flag_save_brain_in_uint8 = False"
   ]
  },
  {
   "cell_type": "code",
   "execution_count": 58,
   "metadata": {},
   "outputs": [
    {
     "data": {
      "text/plain": [
       "['E:/UKB/test_gz_skull\\\\1000512_2_T1.nii.gz',\n",
       " 'E:/UKB/test_gz_skull\\\\1000709_2_T1.nii.gz',\n",
       " 'E:/UKB/test_gz_skull\\\\1000797_2_T1.nii.gz',\n",
       " 'E:/UKB/test_gz_skull\\\\1000835_2_T1.nii.gz',\n",
       " 'E:/UKB/test_gz_skull\\\\1000878_2_T1.nii.gz',\n",
       " 'E:/UKB/test_gz_skull\\\\1000957_2_T1.nii.gz',\n",
       " 'E:/UKB/test_gz_skull\\\\1001036_2_T1.nii.gz',\n",
       " 'E:/UKB/test_gz_skull\\\\1001320_2_T1.nii.gz',\n",
       " 'E:/UKB/test_gz_skull\\\\1001613_2_T1.nii.gz',\n",
       " 'E:/UKB/test_gz_skull\\\\1001632_2_T1.nii.gz',\n",
       " 'E:/UKB/test_gz_skull\\\\1055837_2_T1.nii.gz']"
      ]
     },
     "execution_count": 58,
     "metadata": {},
     "output_type": "execute_result"
    }
   ],
   "source": [
    "in_T1Files"
   ]
  },
  {
   "cell_type": "code",
   "execution_count": 21,
   "metadata": {},
   "outputs": [],
   "source": [
    "# # test for one file\n",
    "# img = nib.load(file_path)\n",
    "# data = img.get_fdata()\n",
    "\n",
    "# unique_labels = np.unique(data)\n",
    "# label_map = {label: idx for idx, label in enumerate(unique_labels)}\n",
    "# mapped_data = np.vectorize(label_map.get)(data).astype(np.uint8)\n",
    "# img.header.set_data_dtype(np.uint8) # Ensure data type is uint8\n",
    "\n",
    "# mapped_data = mapped_data.astype(np.uint8) # Ensure data type is uint8\n",
    "\n",
    "# nib.save(nib.Nifti1Image(mapped_data, img.affine, img.header), file_path.replace('.nii.gz', '_mapped.nii'))\n",
    "# nib.analyze.save(nib.Nifti1Image(mapped_data, img.affine, img.header), file_path.replace('.nii.gz', '_mapped.img'))"
   ]
  },
  {
   "cell_type": "code",
   "execution_count": 63,
   "metadata": {},
   "outputs": [
    {
     "name": "stdout",
     "output_type": "stream",
     "text": [
      "For 1000512_2\n",
      "E:/UKB/SynthSeg/output_SynthSeg_parc_wo_resolution_conversion/1000512_2_T1_synthseg.nii.gz\n",
      "Relabeled seg in Nifti saved\n",
      "Relabeled seg in analysis format saved\n",
      "Mask in Nifti saved\n",
      "Brain in Nifti saved\n",
      "For 1000709_2\n",
      "E:/UKB/SynthSeg/output_SynthSeg_parc_wo_resolution_conversion/1000709_2_T1_synthseg.nii.gz\n",
      "Relabeled seg in Nifti saved\n",
      "Relabeled seg in analysis format saved\n",
      "Mask in Nifti saved\n",
      "Brain in Nifti saved\n",
      "For 1000797_2\n",
      "E:/UKB/SynthSeg/output_SynthSeg_parc_wo_resolution_conversion/1000797_2_T1_synthseg.nii.gz\n",
      "Relabeled seg in Nifti saved\n",
      "Relabeled seg in analysis format saved\n",
      "Mask in Nifti saved\n",
      "Brain in Nifti saved\n",
      "For 1000835_2\n",
      "E:/UKB/SynthSeg/output_SynthSeg_parc_wo_resolution_conversion/1000835_2_T1_synthseg.nii.gz\n",
      "Relabeled seg in Nifti saved\n",
      "Relabeled seg in analysis format saved\n",
      "Mask in Nifti saved\n",
      "Brain in Nifti saved\n",
      "For 1000878_2\n",
      "E:/UKB/SynthSeg/output_SynthSeg_parc_wo_resolution_conversion/1000878_2_T1_synthseg.nii.gz\n",
      "Relabeled seg in Nifti saved\n",
      "Relabeled seg in analysis format saved\n",
      "Mask in Nifti saved\n",
      "Brain in Nifti saved\n",
      "For 1000957_2\n",
      "E:/UKB/SynthSeg/output_SynthSeg_parc_wo_resolution_conversion/1000957_2_T1_synthseg.nii.gz\n",
      "Relabeled seg in Nifti saved\n",
      "Relabeled seg in analysis format saved\n",
      "Mask in Nifti saved\n",
      "Brain in Nifti saved\n",
      "For 1001036_2\n",
      "E:/UKB/SynthSeg/output_SynthSeg_parc_wo_resolution_conversion/1001036_2_T1_synthseg.nii.gz\n",
      "Relabeled seg in Nifti saved\n",
      "Relabeled seg in analysis format saved\n",
      "Mask in Nifti saved\n",
      "Brain in Nifti saved\n",
      "For 1001320_2\n",
      "E:/UKB/SynthSeg/output_SynthSeg_parc_wo_resolution_conversion/1001320_2_T1_synthseg.nii.gz\n",
      "Relabeled seg in Nifti saved\n",
      "Relabeled seg in analysis format saved\n",
      "Mask in Nifti saved\n",
      "Brain in Nifti saved\n",
      "For 1001613_2\n",
      "E:/UKB/SynthSeg/output_SynthSeg_parc_wo_resolution_conversion/1001613_2_T1_synthseg.nii.gz\n",
      "Relabeled seg in Nifti saved\n",
      "Relabeled seg in analysis format saved\n",
      "Mask in Nifti saved\n",
      "Brain in Nifti saved\n",
      "For 1001632_2\n",
      "E:/UKB/SynthSeg/output_SynthSeg_parc_wo_resolution_conversion/1001632_2_T1_synthseg.nii.gz\n",
      "Relabeled seg in Nifti saved\n",
      "Relabeled seg in analysis format saved\n",
      "Mask in Nifti saved\n",
      "Brain in Nifti saved\n",
      "For 1055837_2\n",
      "E:/UKB/SynthSeg/output_SynthSeg_parc_wo_resolution_conversion/1055837_2_T1_synthseg.nii.gz\n",
      "Relabeled seg in Nifti saved\n",
      "Relabeled seg in analysis format saved\n",
      "Mask in Nifti saved\n",
      "Brain in Nifti saved\n"
     ]
    }
   ],
   "source": [
    "for T1file_path in in_T1Files:\n",
    "    foldername, T1_name = os.path.split(T1file_path)\n",
    "    # print(foldername, T1_name)\n",
    "    casename = T1_name.split('.')[0].split('_T1')[0]\n",
    "    print(f'For {casename}')\n",
    "\n",
    "    T1img = nib.load(T1file_path)\n",
    "    T1data = T1img.get_fdata()\n",
    "\n",
    "    if T1file_path.endswith('.gz'):\n",
    "        seg_name = os.path.join(outputdir, f'{casename}_T1_synthseg.nii.gz')\n",
    "        print(seg_name)\n",
    "    elif T1file_path.endswith('.nii'):\n",
    "        seg_name = os.path.join(outputdir, f'{casename}_T1_synthseg.nii')\n",
    "        print(seg_name)\n",
    "    else:\n",
    "        raise ValueError('Unknown file format')\n",
    "    \n",
    "    if os.path.exists(seg_name):\n",
    "        seg_img = nib.load(seg_name)\n",
    "        seg_data = seg_img.get_fdata()\n",
    "    else:\n",
    "        raise ValueError(f'{seg_name} does not exist')\n",
    "\n",
    "    # Create unique label map 0-99\n",
    "    unique_labels = np.unique(seg_data)\n",
    "    label_map = {label: idx for idx, label in enumerate(unique_labels)}\n",
    "    mapped_seg_data = np.vectorize(label_map.get)(seg_data).astype(np.uint8)\n",
    "\n",
    "    T1img.header.set_data_dtype(np.uint8) # Ensure data type is uint8\n",
    "    mapped_seg_data = mapped_seg_data.astype(np.uint8) # Ensure data type is uint8\n",
    "\n",
    "    nib.save(nib.Nifti1Image(mapped_seg_data, seg_img.affine, T1img.header), os.path.join(outputdir, f'{casename}_T1_synthseg_relabeled98.nii'))\n",
    "    print('Relabeled seg in Nifti saved')\n",
    "    nib.analyze.save(nib.Nifti1Image(mapped_seg_data, seg_img.affine, T1img.header), os.path.join(outputdir, f'{casename}_T1_synthseg_relabeled98.img'))\n",
    "    print('Relabeled seg in analysis format saved')\n",
    "\n",
    "    if flag_save_brain_mask:\n",
    "        mask_path = os.path.join(outputdir, f'{casename}_T1_brain_mask.nii')\n",
    "        brain_path = os.path.join(outputdir, f'{casename}_T1_brain.nii')\n",
    "        mask = binary_dilation(seg_data > 0, structure=generate_binary_structure(3, 1))\n",
    "        masked_data = T1data.copy()\n",
    "        masked_data[~mask] = 0\n",
    "        nib.save(nib.Nifti1Image(mask.astype(np.uint8), T1img.affine), mask_path)\n",
    "        print('Mask in Nifti saved')\n",
    "        if flag_save_brain_in_uint8:\n",
    "            masked_data = (255 * (masked_data / masked_data.max())).astype(np.uint8)\n",
    "        # masked_data_uint8 = (255 * (masked_data / masked_data.max())).astype(np.uint8)\n",
    "        nib.save(nib.Nifti1Image(masked_data, T1img.affine), brain_path)\n",
    "        print('Brain in Nifti saved')\n"
   ]
  },
  {
   "cell_type": "code",
   "execution_count": 73,
   "metadata": {},
   "outputs": [],
   "source": [
    "import pandas as pd"
   ]
  },
  {
   "cell_type": "code",
   "execution_count": 78,
   "metadata": {},
   "outputs": [
    {
     "name": "stdout",
     "output_type": "stream",
     "text": [
      "For 1000512_2\n",
      "(1.0000045, 1.0, 1.0)\n",
      "For 1000709_2\n",
      "(1.0000008, 1.0, 1.0)\n",
      "For 1000797_2\n",
      "(1.0000001, 1.0, 1.0)\n",
      "For 1000835_2\n",
      "(0.999996, 1.0, 1.0)\n",
      "For 1000878_2\n",
      "(0.9999995, 1.0, 1.0)\n",
      "For 1000957_2\n",
      "(1.0000004, 1.0, 1.0)\n",
      "For 1001036_2\n",
      "(1.0000036, 1.0, 1.0)\n",
      "For 1001320_2\n",
      "(1.0000001, 1.0, 1.0)\n",
      "For 1001613_2\n",
      "(0.99999815, 1.0, 1.0)\n",
      "For 1001632_2\n",
      "(1.0000021, 1.0, 1.0)\n",
      "For 1055837_2\n",
      "(1.0000033, 1.0, 1.0)\n"
     ]
    },
    {
     "data": {
      "text/html": [
       "<div>\n",
       "<style scoped>\n",
       "    .dataframe tbody tr th:only-of-type {\n",
       "        vertical-align: middle;\n",
       "    }\n",
       "\n",
       "    .dataframe tbody tr th {\n",
       "        vertical-align: top;\n",
       "    }\n",
       "\n",
       "    .dataframe thead th {\n",
       "        text-align: right;\n",
       "    }\n",
       "</style>\n",
       "<table border=\"1\" class=\"dataframe\">\n",
       "  <thead>\n",
       "    <tr style=\"text-align: right;\">\n",
       "      <th></th>\n",
       "      <th>Case</th>\n",
       "      <th>Resolution</th>\n",
       "    </tr>\n",
       "  </thead>\n",
       "  <tbody>\n",
       "    <tr>\n",
       "      <th>0</th>\n",
       "      <td>1000512_2</td>\n",
       "      <td>(1.0000045, 1.0, 1.0)</td>\n",
       "    </tr>\n",
       "    <tr>\n",
       "      <th>1</th>\n",
       "      <td>1000709_2</td>\n",
       "      <td>(1.0000008, 1.0, 1.0)</td>\n",
       "    </tr>\n",
       "    <tr>\n",
       "      <th>2</th>\n",
       "      <td>1000797_2</td>\n",
       "      <td>(1.0000001, 1.0, 1.0)</td>\n",
       "    </tr>\n",
       "    <tr>\n",
       "      <th>3</th>\n",
       "      <td>1000835_2</td>\n",
       "      <td>(0.999996, 1.0, 1.0)</td>\n",
       "    </tr>\n",
       "    <tr>\n",
       "      <th>4</th>\n",
       "      <td>1000878_2</td>\n",
       "      <td>(0.9999995, 1.0, 1.0)</td>\n",
       "    </tr>\n",
       "    <tr>\n",
       "      <th>5</th>\n",
       "      <td>1000957_2</td>\n",
       "      <td>(1.0000004, 1.0, 1.0)</td>\n",
       "    </tr>\n",
       "    <tr>\n",
       "      <th>6</th>\n",
       "      <td>1001036_2</td>\n",
       "      <td>(1.0000036, 1.0, 1.0)</td>\n",
       "    </tr>\n",
       "    <tr>\n",
       "      <th>7</th>\n",
       "      <td>1001320_2</td>\n",
       "      <td>(1.0000001, 1.0, 1.0)</td>\n",
       "    </tr>\n",
       "    <tr>\n",
       "      <th>8</th>\n",
       "      <td>1001613_2</td>\n",
       "      <td>(0.99999815, 1.0, 1.0)</td>\n",
       "    </tr>\n",
       "    <tr>\n",
       "      <th>9</th>\n",
       "      <td>1001632_2</td>\n",
       "      <td>(1.0000021, 1.0, 1.0)</td>\n",
       "    </tr>\n",
       "    <tr>\n",
       "      <th>10</th>\n",
       "      <td>1055837_2</td>\n",
       "      <td>(1.0000033, 1.0, 1.0)</td>\n",
       "    </tr>\n",
       "  </tbody>\n",
       "</table>\n",
       "</div>"
      ],
      "text/plain": [
       "         Case              Resolution\n",
       "0   1000512_2   (1.0000045, 1.0, 1.0)\n",
       "1   1000709_2   (1.0000008, 1.0, 1.0)\n",
       "2   1000797_2   (1.0000001, 1.0, 1.0)\n",
       "3   1000835_2    (0.999996, 1.0, 1.0)\n",
       "4   1000878_2   (0.9999995, 1.0, 1.0)\n",
       "5   1000957_2   (1.0000004, 1.0, 1.0)\n",
       "6   1001036_2   (1.0000036, 1.0, 1.0)\n",
       "7   1001320_2   (1.0000001, 1.0, 1.0)\n",
       "8   1001613_2  (0.99999815, 1.0, 1.0)\n",
       "9   1001632_2   (1.0000021, 1.0, 1.0)\n",
       "10  1055837_2   (1.0000033, 1.0, 1.0)"
      ]
     },
     "execution_count": 78,
     "metadata": {},
     "output_type": "execute_result"
    }
   ],
   "source": [
    "# print the resolution of in_T1Files\n",
    "df = pd.DataFrame(columns=['Case', 'Resolution'])\n",
    "i = 0\n",
    "for T1file_path in in_T1Files:\n",
    "    \n",
    "    foldername, T1_name = os.path.split(T1file_path)\n",
    "    # print(foldername, T1_name)\n",
    "    casename = T1_name.split('.')[0].split('_T1')[0]\n",
    "    print(f'For {casename}')\n",
    "\n",
    "    T1img = nib.load(T1file_path)\n",
    "    T1data = T1img.get_fdata()\n",
    "    voxel_dims = T1img.header.get_zooms()[:3]\n",
    "    print(voxel_dims)\n",
    "    df.loc[i] = [casename, voxel_dims]\n",
    "    i += 1\n",
    "df"
   ]
  }
 ],
 "metadata": {
  "kernelspec": {
   "display_name": "Python 3",
   "language": "python",
   "name": "python3"
  },
  "language_info": {
   "codemirror_mode": {
    "name": "ipython",
    "version": 3
   },
   "file_extension": ".py",
   "mimetype": "text/x-python",
   "name": "python",
   "nbconvert_exporter": "python",
   "pygments_lexer": "ipython3",
   "version": "3.12.2"
  }
 },
 "nbformat": 4,
 "nbformat_minor": 2
}
